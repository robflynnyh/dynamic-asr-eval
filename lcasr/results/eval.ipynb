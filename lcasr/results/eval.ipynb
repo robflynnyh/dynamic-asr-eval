{
 "cells": [
  {
   "cell_type": "code",
   "execution_count": 5,
   "metadata": {},
   "outputs": [],
   "source": [
    "import pickle as pkl\n",
    "import torch\n",
    "import os"
   ]
  },
  {
   "cell_type": "code",
   "execution_count": 23,
   "metadata": {},
   "outputs": [],
   "source": [
    "def get_data(prefix, base_path='./'):\n",
    "    in_dir = os.listdir(base_path)\n",
    "    in_dir = [f for f in in_dir if f.startswith(prefix)]\n",
    "    in_dir = sorted(in_dir)\n",
    "    data = []\n",
    "    for f in in_dir:\n",
    "        with open(base_path + f, 'rb') as file:\n",
    "            data.append(pkl.load(file))\n",
    "    return data"
   ]
  },
  {
   "cell_type": "code",
   "execution_count": 24,
   "metadata": {},
   "outputs": [],
   "source": [
    "tedlium_test = get_data('tedlium_test')"
   ]
  },
  {
   "cell_type": "code",
   "execution_count": 28,
   "metadata": {},
   "outputs": [
    {
     "data": {
      "text/plain": [
       "0.057762813318368876"
      ]
     },
     "execution_count": 28,
     "metadata": {},
     "output_type": "execute_result"
    }
   ],
   "source": [
    "wer_tedlium_test = [d['wer'] for d in tedlium_test]\n",
    "sum(wer_tedlium_test)/3"
   ]
  },
  {
   "cell_type": "code",
   "execution_count": 25,
   "metadata": {},
   "outputs": [
    {
     "data": {
      "text/plain": [
       "dict_keys(['wer', 'words', 'ins_rate', 'del_rate', 'sub_rate', 'model_output', 'gold', 'args_dict', 'repeat'])"
      ]
     },
     "execution_count": 25,
     "metadata": {},
     "output_type": "execute_result"
    }
   ],
   "source": [
    "tedlium_test[0].keys()"
   ]
  },
  {
   "cell_type": "code",
   "execution_count": 22,
   "metadata": {},
   "outputs": [
    {
     "data": {
      "text/plain": [
       "0.008683324472798157"
      ]
     },
     "execution_count": 22,
     "metadata": {},
     "output_type": "execute_result"
    }
   ],
   "source": [
    "tedlium_test[0]['ins_rate']"
   ]
  }
 ],
 "metadata": {
  "kernelspec": {
   "display_name": "flash_attn_pytorch2",
   "language": "python",
   "name": "python3"
  },
  "language_info": {
   "codemirror_mode": {
    "name": "ipython",
    "version": 3
   },
   "file_extension": ".py",
   "mimetype": "text/x-python",
   "name": "python",
   "nbconvert_exporter": "python",
   "pygments_lexer": "ipython3",
   "version": "3.9.17"
  }
 },
 "nbformat": 4,
 "nbformat_minor": 2
}
