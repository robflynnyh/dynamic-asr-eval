{
 "cells": [
  {
   "cell_type": "code",
   "execution_count": 47,
   "metadata": {},
   "outputs": [],
   "source": [
    "import pickle as pkl\n",
    "import torch\n",
    "import os"
   ]
  },
  {
   "cell_type": "code",
   "execution_count": 44,
   "metadata": {},
   "outputs": [],
   "source": [
    "def get_data(prefix, base_path='./'):\n",
    "    in_dir = os.listdir(base_path)\n",
    "    in_dir = [f for f in in_dir if f.startswith(prefix)]\n",
    "    in_dir = sorted(in_dir)\n",
    "    data = []\n",
    "    for f in in_dir:\n",
    "        with open(base_path + f, 'rb') as file:\n",
    "            data.append(pkl.load(file))\n",
    "    return data"
   ]
  },
  {
   "cell_type": "code",
   "execution_count": 46,
   "metadata": {},
   "outputs": [
    {
     "name": "stdout",
     "output_type": "stream",
     "text": [
      "3/3 complete\n"
     ]
    },
    {
     "data": {
      "text/plain": [
       "0.061210546005867644"
      ]
     },
     "execution_count": 46,
     "metadata": {},
     "output_type": "execute_result"
    }
   ],
   "source": [
    "tedlium_test = get_data('ted_test', base_path='./online/')\n",
    "wer_tedlium_test = [d['wer'] for d in tedlium_test]\n",
    "print(f'{len(wer_tedlium_test)}/3 complete')\n",
    "sum(wer_tedlium_test)/len(wer_tedlium_test)"
   ]
  },
  {
   "cell_type": "code",
   "execution_count": 25,
   "metadata": {},
   "outputs": [
    {
     "data": {
      "text/plain": [
       "dict_keys(['wer', 'words', 'ins_rate', 'del_rate', 'sub_rate', 'model_output', 'gold', 'args_dict', 'repeat'])"
      ]
     },
     "execution_count": 25,
     "metadata": {},
     "output_type": "execute_result"
    }
   ],
   "source": [
    "tedlium_test[0].keys()"
   ]
  },
  {
   "cell_type": "code",
   "execution_count": 22,
   "metadata": {},
   "outputs": [
    {
     "data": {
      "text/plain": [
       "0.008683324472798157"
      ]
     },
     "execution_count": 22,
     "metadata": {},
     "output_type": "execute_result"
    }
   ],
   "source": [
    "tedlium_test[0]['ins_rate']"
   ]
  },
  {
   "cell_type": "code",
   "execution_count": 20,
   "metadata": {},
   "outputs": [],
   "source": [
    "import torch, lcasr"
   ]
  },
  {
   "cell_type": "code",
   "execution_count": 27,
   "metadata": {},
   "outputs": [
    {
     "data": {
      "text/plain": [
       "lcasr.models.sconformer_xl.SCConformerXL"
      ]
     },
     "execution_count": 27,
     "metadata": {},
     "output_type": "execute_result"
    }
   ],
   "source": [
    "lcasr.models.sconformer_xl.SCConformerXL"
   ]
  },
  {
   "cell_type": "code",
   "execution_count": 31,
   "metadata": {},
   "outputs": [
    {
     "data": {
      "text/plain": [
       "<All keys matched successfully>"
      ]
     },
     "execution_count": 31,
     "metadata": {},
     "output_type": "execute_result"
    }
   ],
   "source": [
    "model_path = \"/store/store5/data/acp21rjf_checkpoints/lcasr/lcasr-160-rb_e1/step_105360.pt\"\n",
    "model_state = torch.load(model_path, map_location='cpu')\n",
    "model = lcasr.models.sconformer_xl.SCConformerXL(vocab_size=4095, use_rotary=True, decoder_norm=True)\n",
    "model.load_state_dict(model_state['model'])"
   ]
  },
  {
   "cell_type": "code",
   "execution_count": 42,
   "metadata": {},
   "outputs": [],
   "source": [
    "from apex.normalization import FusedLayerNorm\n",
    "from lcasr.components.batchrenorm import BatchRenorm1d"
   ]
  },
  {
   "cell_type": "code",
   "execution_count": 43,
   "metadata": {},
   "outputs": [
    {
     "name": "stdout",
     "output_type": "stream",
     "text": [
      "0 BatchRenorm1d()\n",
      "0 BatchRenorm1d()\n",
      "0 BatchRenorm1d()\n",
      "0 BatchRenorm1d()\n",
      "0 BatchRenorm1d()\n",
      "0 BatchRenorm1d()\n"
     ]
    }
   ],
   "source": [
    "\n",
    "for param in model.parameters():\n",
    "    param.requires_grad = False\n",
    "for module in model.modules():\n",
    "    if isinstance(module, FusedLayerNorm) or isinstance(module, torch.nn.LayerNorm):\n",
    "        module.bias.requires_grad = True\n",
    "    if isinstance(module, torch.nn.Linear) and module.bias is not None:\n",
    "        module.bias.requires_grad = True\n",
    "    if isinstance(module, BatchRenorm1d):\n",
    "        module.bias.requires_grad = True"
   ]
  }
 ],
 "metadata": {
  "kernelspec": {
   "display_name": "flash_attn_pytorch2",
   "language": "python",
   "name": "python3"
  },
  "language_info": {
   "codemirror_mode": {
    "name": "ipython",
    "version": 3
   },
   "file_extension": ".py",
   "mimetype": "text/x-python",
   "name": "python",
   "nbconvert_exporter": "python",
   "pygments_lexer": "ipython3",
   "version": "3.9.17"
  }
 },
 "nbformat": 4,
 "nbformat_minor": 2
}
